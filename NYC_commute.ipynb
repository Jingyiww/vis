{
  "nbformat": 4,
  "nbformat_minor": 0,
  "metadata": {
    "colab": {
      "provenance": []
    },
    "kernelspec": {
      "name": "python3",
      "display_name": "Python 3"
    },
    "language_info": {
      "name": "python"
    }
  },
  "cells": [
    {
      "cell_type": "code",
      "execution_count": 1,
      "metadata": {
        "colab": {
          "base_uri": "https://localhost:8080/"
        },
        "id": "3eGt7-MwDJiL",
        "outputId": "6739b0aa-ccb0-4e45-92d0-8d775794062d"
      },
      "outputs": [
        {
          "output_type": "stream",
          "name": "stdout",
          "text": [
            "Decompressed ny_xwalk.csv.gz to ny_xwalk.csv\n",
            "Decompressed ny_od_main_JT00_2021.csv.gz to ny_od_main_JT00_2021.csv\n"
          ]
        },
        {
          "output_type": "stream",
          "name": "stderr",
          "text": [
            "<ipython-input-1-edb3664aae1c>:27: DtypeWarning: Columns (27,28,29,37) have mixed types. Specify dtype option on import or set low_memory=False.\n",
            "  ny = pd.read_csv(csv_file_path)\n"
          ]
        }
      ],
      "source": [
        "import gzip\n",
        "import shutil\n",
        "import os\n",
        "import pandas as pd\n",
        "\n",
        "# decompress LODES dataset(commuting data of NY)\n",
        "def decompress_gzip(file_path, output_path):\n",
        "    with gzip.open(file_path, 'rb') as f_in:\n",
        "        with open(output_path, 'wb') as f_out:\n",
        "            shutil.copyfileobj(f_in, f_out)\n",
        "    print(f\"Decompressed {file_path} to {output_path}\")\n",
        "\n",
        "# Census Tabulation BlockCode (2020-)\n",
        "file_name = 'ny_xwalk.csv.gz'\n",
        "decompressed_file = 'ny_xwalk.csv'\n",
        "decompress_gzip(file_name, decompressed_file)\n",
        "\n",
        "# all job data with both workplace and residence located in NY(2021)\n",
        "file_name2 = 'ny_od_main_JT00_2021.csv.gz'\n",
        "decompressed_file2 = 'ny_od_main_JT00_2021.csv'\n",
        "decompress_gzip(file_name2, decompressed_file2)\n",
        "\n",
        "csv_file_path = 'ny_od_main_JT00_2021.csv'\n",
        "df = pd.read_csv(csv_file_path)\n",
        "\n",
        "csv_file_path = 'ny_xwalk.csv'\n",
        "ny = pd.read_csv(csv_file_path)"
      ]
    },
    {
      "cell_type": "code",
      "source": [
        "ny.rename(columns={'tabblk2020': 'w_geocode'}, inplace=True)\n",
        "ny = ny[['w_geocode','zcta']]\n",
        "merged_df_left = pd.merge(df, ny, on='w_geocode', how='left')\n",
        "\n",
        "ny.rename(columns={'w_geocode': 'h_geocode'}, inplace=True)\n",
        "merged_df_left.rename(columns={'zcta': 'w_zcta'}, inplace=True)\n",
        "merged_df = merged_df_left[['w_geocode','w_zcta','h_geocode','S000']]\n",
        "merged_df = pd.merge(merged_df_left, ny, on='h_geocode', how='left')\n",
        "\n",
        "df = merged_df.groupby(['w_zcta', 'zcta'])['S000'].sum().reset_index()"
      ],
      "metadata": {
        "id": "Fw0AD2HrDS49"
      },
      "execution_count": 2,
      "outputs": []
    },
    {
      "cell_type": "code",
      "source": [
        "# merge ZIP Code Tabulation Area (ZCTA) Code with geographic location\n",
        "filename = 'uszips.csv'\n",
        "zip = pd.read_csv(filename)\n",
        "zip = zip[['zip','lat','lng']]\n",
        "zip.rename(columns={'zip': 'zcta'}, inplace=True)\n",
        "\n",
        "df = pd.merge(df, zip, on='zcta', how='left')\n",
        "df.rename(columns={'lat': 'h_lat','lng': 'h_lng'}, inplace=True)\n",
        "zip.rename(columns={'zcta': 'w_zcta'}, inplace=True)\n",
        "df = pd.merge(df, zip, on='w_zcta', how='left')\n",
        "df.rename(columns={'lat': 'w_lat','lng': 'w_lng'}, inplace=True)"
      ],
      "metadata": {
        "id": "9bT41-tSDS-5"
      },
      "execution_count": 3,
      "outputs": []
    },
    {
      "cell_type": "code",
      "source": [
        "df = df.dropna(subset=['h_lat', 'h_lng', 'w_lat', 'w_lng'])\n",
        "#print(df.isna().sum())\n",
        "\n",
        "df['w_zcta'] = df['w_zcta'].astype(str).str.zfill(5)\n",
        "df['zcta'] = df['zcta'].astype(str).str.zfill(5)\n",
        "\n",
        "grouped_df = df.groupby(['zcta', 'w_zcta','h_lat', 'h_lng', 'w_lat', 'w_lng'], as_index=False)['S000'].sum()"
      ],
      "metadata": {
        "colab": {
          "base_uri": "https://localhost:8080/"
        },
        "id": "DNVondinDTHU",
        "outputId": "80b74828-4df9-405c-e3f7-76815474aa11"
      },
      "execution_count": 4,
      "outputs": [
        {
          "output_type": "stream",
          "name": "stdout",
          "text": [
            "w_zcta    0\n",
            "zcta      0\n",
            "S000      0\n",
            "h_lat     0\n",
            "h_lng     0\n",
            "w_lat     0\n",
            "w_lng     0\n",
            "dtype: int64\n"
          ]
        }
      ]
    },
    {
      "cell_type": "code",
      "source": [
        "import geopandas as gpd\n",
        "from shapely.geometry import Point\n",
        "\n",
        "# Neighborhood Tabulation Area（NTA） of NYC\n",
        "csv_file_path = '2020_Neighborhood_Tabulation_Areas__NTAs__20240728.csv'\n",
        "nta_df = pd.read_csv(csv_file_path)\n",
        "\n",
        "locations_df = df\n",
        "nta_gdf = gpd.GeoDataFrame(nta_df, geometry=gpd.GeoSeries.from_wkt(nta_df['the_geom']))\n",
        "\n",
        "# home_work_GeoDataFrame\n",
        "locations_df['home_point'] = locations_df.apply(lambda row: Point(row['h_lng'], row['h_lat']), axis=1)\n",
        "locations_df['work_point'] = locations_df.apply(lambda row: Point(row['w_lng'], row['w_lat']), axis=1)\n",
        "\n",
        "home_gdf = gpd.GeoDataFrame(locations_df, geometry='home_point')\n",
        "work_gdf = gpd.GeoDataFrame(locations_df, geometry='work_point')\n",
        "\n",
        "home_gdf.set_crs(epsg=4326, inplace=True)\n",
        "work_gdf.set_crs(epsg=4326, inplace=True)\n",
        "nta_gdf.set_crs(epsg=4326, inplace=True)\n",
        "\n",
        "# home_NTA\n",
        "home_gdf = gpd.sjoin(home_gdf, nta_gdf[['NTAName', 'geometry']], how='left', op='within')\n",
        "\n",
        "# work_NTA\n",
        "work_gdf = gpd.sjoin(work_gdf, nta_gdf[['NTAName', 'geometry']], how='left', op='within')\n",
        "\n",
        "\n",
        "result_df = locations_df.copy()\n",
        "result_df['home_NTAName'] = home_gdf['NTAName']\n",
        "result_df['work_NTAName'] = work_gdf['NTAName']\n",
        "\n",
        "result_df.drop(columns=['home_point', 'work_point'], inplace=True)\n",
        "\n",
        "#result_df.to_csv('matched_data.csv', index=False)"
      ],
      "metadata": {
        "colab": {
          "base_uri": "https://localhost:8080/"
        },
        "id": "TbUlU3YWDTNv",
        "outputId": "90585f11-86c3-455c-8d7e-681266b75c57"
      },
      "execution_count": 5,
      "outputs": [
        {
          "output_type": "stream",
          "name": "stderr",
          "text": [
            "/usr/local/lib/python3.10/dist-packages/IPython/core/interactiveshell.py:3473: FutureWarning: The `op` parameter is deprecated and will be removed in a future release. Please use the `predicate` parameter instead.\n",
            "  if (await self.run_code(code, result,  async_=asy)):\n",
            "/usr/local/lib/python3.10/dist-packages/IPython/core/interactiveshell.py:3473: FutureWarning: The `op` parameter is deprecated and will be removed in a future release. Please use the `predicate` parameter instead.\n",
            "  if (await self.run_code(code, result,  async_=asy)):\n"
          ]
        }
      ]
    },
    {
      "cell_type": "code",
      "source": [
        "result_df.dropna(inplace=True)\n",
        "\n",
        "# group commuters by NTA\n",
        "aggregated_df = result_df.groupby(['home_NTAName', 'work_NTAName']).agg({\n",
        "    'S000': 'sum'\n",
        "}).reset_index()\n",
        "\n",
        "df_commute  = aggregated_df\n",
        "#df_commute  = df_aggregated"
      ],
      "metadata": {
        "id": "V0aBCoBqEjEu"
      },
      "execution_count": 6,
      "outputs": []
    },
    {
      "cell_type": "code",
      "source": [
        "import pandas as pd\n",
        "import geopandas as gpd\n",
        "import folium\n",
        "from shapely import wkt\n",
        "from folium import Popup\n",
        "\n",
        "nta_gdf = gpd.GeoDataFrame(nta_df, geometry=gpd.GeoSeries.from_wkt(nta_df['the_geom']))\n",
        "\n",
        "m = folium.Map(location=[40.7128, -74.0060], zoom_start=10)\n",
        "\n",
        "# add neighborhood boundaries\n",
        "for _, row in nta_gdf.iterrows():\n",
        "    folium.GeoJson(\n",
        "        row['geometry'],\n",
        "        name=row['NTAName'],\n",
        "        tooltip=row['NTAName'],\n",
        "        style_function=lambda feature: {\n",
        "            'color': 'black',\n",
        "            'weight': 2,\n",
        "            'fillOpacity': 0,\n",
        "        }\n",
        "    ).add_to(m)\n",
        "\n",
        "# commuters layer\n",
        "layer_1000 = folium.FeatureGroup(name='commuters > 1000', show=True)\n",
        "layer_500 = folium.FeatureGroup(name='commuters 500 - 1000', show=True)\n",
        "layer_300 = folium.FeatureGroup(name='commuters 300 - 500', show=True)\n",
        "layer_100 = folium.FeatureGroup(name='commuters 100 - 300', show=True)\n",
        "layer_0 = folium.FeatureGroup(name='commuters 0 - 100', show=True)\n",
        "\n",
        "# commuting routes\n",
        "for _, row in df_commute.iterrows():\n",
        "    home_geom = nta_gdf[nta_gdf['NTAName'] == row['home_NTAName']]['geometry'].values[0]\n",
        "    work_geom = nta_gdf[nta_gdf['NTAName'] == row['work_NTAName']]['geometry'].values[0]\n",
        "    home_centroid = home_geom.centroid\n",
        "    work_centroid = work_geom.centroid\n",
        "\n",
        "    # set color and weight based on number of commuters\n",
        "    if row['S000'] > 1000:\n",
        "        color = 'red'\n",
        "        weight = 6\n",
        "        layer = layer_1000\n",
        "    elif row['S000'] > 500:\n",
        "        color = 'orange'\n",
        "        weight = 4\n",
        "        layer = layer_500\n",
        "    elif row['S000'] > 300:\n",
        "        color = 'green'\n",
        "        weight = 2\n",
        "        layer = layer_300\n",
        "    elif row['S000'] > 100:\n",
        "        color = 'rgb(057, 081, 162)'\n",
        "        weight = 1\n",
        "        layer = layer_100\n",
        "    else:\n",
        "        color = 'rgb(202, 232, 242)'\n",
        "        weight = 1\n",
        "        layer = layer_0\n",
        "\n",
        "    polyline = folium.PolyLine(\n",
        "        locations=[(home_centroid.y, home_centroid.x), (work_centroid.y, work_centroid.x)],\n",
        "        color=color,\n",
        "        weight=weight,\n",
        "        opacity=0.6\n",
        "    )\n",
        "\n",
        "    # add click marker\n",
        "    popup = Popup(f\"Home: {row['home_NTAName']}<br>Work: {row['work_NTAName']}<br>Commute: {row['S000']}\", max_width=300)\n",
        "    polyline.add_child(popup)\n",
        "    layer.add_child(polyline)\n",
        "\n",
        "# add layers\n",
        "layer_1000.add_to(m)\n",
        "layer_500.add_to(m)\n",
        "layer_300.add_to(m)\n",
        "layer_100.add_to(m)\n",
        "layer_0.add_to(m)\n",
        "\n",
        "folium.LayerControl().add_to(m)\n",
        "\n",
        "m.save('commute_map.html')\n"
      ],
      "metadata": {
        "id": "fYDDn3JhPLmT"
      },
      "execution_count": 9,
      "outputs": []
    },
    {
      "cell_type": "code",
      "source": [
        "from google.colab import files\n",
        "files.download('commute_map.html')"
      ],
      "metadata": {
        "colab": {
          "base_uri": "https://localhost:8080/",
          "height": 17
        },
        "id": "gfVjbOBuNGIO",
        "outputId": "4f136c98-93cf-4c9d-c84e-31eeafa5e342"
      },
      "execution_count": 14,
      "outputs": [
        {
          "output_type": "display_data",
          "data": {
            "text/plain": [
              "<IPython.core.display.Javascript object>"
            ],
            "application/javascript": [
              "\n",
              "    async function download(id, filename, size) {\n",
              "      if (!google.colab.kernel.accessAllowed) {\n",
              "        return;\n",
              "      }\n",
              "      const div = document.createElement('div');\n",
              "      const label = document.createElement('label');\n",
              "      label.textContent = `Downloading \"${filename}\": `;\n",
              "      div.appendChild(label);\n",
              "      const progress = document.createElement('progress');\n",
              "      progress.max = size;\n",
              "      div.appendChild(progress);\n",
              "      document.body.appendChild(div);\n",
              "\n",
              "      const buffers = [];\n",
              "      let downloaded = 0;\n",
              "\n",
              "      const channel = await google.colab.kernel.comms.open(id);\n",
              "      // Send a message to notify the kernel that we're ready.\n",
              "      channel.send({})\n",
              "\n",
              "      for await (const message of channel.messages) {\n",
              "        // Send a message to notify the kernel that we're ready.\n",
              "        channel.send({})\n",
              "        if (message.buffers) {\n",
              "          for (const buffer of message.buffers) {\n",
              "            buffers.push(buffer);\n",
              "            downloaded += buffer.byteLength;\n",
              "            progress.value = downloaded;\n",
              "          }\n",
              "        }\n",
              "      }\n",
              "      const blob = new Blob(buffers, {type: 'application/binary'});\n",
              "      const a = document.createElement('a');\n",
              "      a.href = window.URL.createObjectURL(blob);\n",
              "      a.download = filename;\n",
              "      div.appendChild(a);\n",
              "      a.click();\n",
              "      div.remove();\n",
              "    }\n",
              "  "
            ]
          },
          "metadata": {}
        },
        {
          "output_type": "display_data",
          "data": {
            "text/plain": [
              "<IPython.core.display.Javascript object>"
            ],
            "application/javascript": [
              "download(\"download_12628618-dcbe-4fe8-b439-6ae64b81f68c\", \"commute_map.html\", 31651904)"
            ]
          },
          "metadata": {}
        }
      ]
    },
    {
      "cell_type": "code",
      "source": [],
      "metadata": {
        "id": "KFt7MbB5RvXa"
      },
      "execution_count": null,
      "outputs": []
    }
  ]
}